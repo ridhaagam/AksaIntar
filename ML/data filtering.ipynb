{
 "cells": [
  {
   "attachments": {},
   "cell_type": "markdown",
   "metadata": {},
   "source": [
    "# Capstone Project "
   ]
  },
  {
   "attachments": {},
   "cell_type": "markdown",
   "metadata": {},
   "source": [
    "### Install pip:\n",
    "\n",
    "pip install torch torchvision matplotlib"
   ]
  },
  {
   "attachments": {},
   "cell_type": "markdown",
   "metadata": {},
   "source": [
    "### Import necessary libraries"
   ]
  },
  {
   "cell_type": "code",
   "execution_count": null,
   "metadata": {},
   "outputs": [],
   "source": [
    "import os\n",
    "import json\n",
    "import random\n",
    "import shutil\n",
    "from pycocotools.coco import COCO\n"
   ]
  },
  {
   "attachments": {},
   "cell_type": "markdown",
   "metadata": {},
   "source": [
    "### Initialize COCO API for instance annotations"
   ]
  },
  {
   "cell_type": "code",
   "execution_count": null,
   "metadata": {},
   "outputs": [],
   "source": [
    "dataDir = r'C:\\Users\\muhri\\Untitled Folder 1\\ML'  # adjust this to your data directory\n",
    "dataType = 'val2017'\n",
    "annDir = r'C:\\Users\\muhri\\Untitled Folder 1\\ML\\annotations'\n",
    "annFile = '{}\\instances_{}.json'.format(annDir, dataType)\n",
    "\n",
    "coco = COCO(annFile)\n"
   ]
  },
  {
   "attachments": {},
   "cell_type": "markdown",
   "metadata": {},
   "source": [
    "### Get all image ids and filter them\n",
    "\n"
   ]
  },
  {
   "cell_type": "code",
   "execution_count": null,
   "metadata": {},
   "outputs": [],
   "source": [
    "object_categories = [\n",
    "\t'bicycle', 'car', 'motorcycle', 'stop sign', 'cat', 'dog', 'backpack', \n",
    "    'umbrella', 'handbag', 'bottle', 'cup', 'bowl','orange', 'tv', 'laptop', \t\n",
    "    'microwave', 'oven','scissors', 'toothbrush','hair drier'\n",
    "]"
   ]
  },
  {
   "cell_type": "code",
   "execution_count": null,
   "metadata": {},
   "outputs": [],
   "source": [
    "object_cat_ids = coco.getCatIds(catNms=object_categories)\n",
    "object_img_ids = coco.getImgIds(catIds=object_cat_ids)\n",
    "total_images = 700\n",
    "num_train = 500\n",
    "num_test = 200\n",
    "\n",
    "assert num_train + num_test == total_images, \"The sum of training and test images should equal the total number of images\"\n"
   ]
  },
  {
   "cell_type": "code",
   "execution_count": null,
   "metadata": {},
   "outputs": [],
   "source": [
    "random.shuffle(object_img_ids)\n",
    "\n",
    "# Select the first 500 images for training\n",
    "train_ids = object_img_ids[:num_train]\n",
    "\n",
    "# Select the next 200 images for testing\n",
    "test_ids = object_img_ids[num_train:num_train+num_test]\n"
   ]
  },
  {
   "attachments": {},
   "cell_type": "markdown",
   "metadata": {},
   "source": [
    "### Copy selected images to a new directory"
   ]
  },
  {
   "cell_type": "code",
   "execution_count": null,
   "metadata": {},
   "outputs": [],
   "source": [
    "train_img_dir = 'train_images'\n",
    "test_img_dir = 'test_images'\n",
    "\n",
    "os.makedirs(train_img_dir, exist_ok=True)\n",
    "os.makedirs(test_img_dir, exist_ok=True)\n",
    "\n",
    "for img_id in train_ids:\n",
    "    img_info = coco.loadImgs(img_id)[0]\n",
    "    img_path = os.path.join(dataDir, img_info['file_name'])  # Removed extra dataType\n",
    "    shutil.copy(img_path, train_img_dir)\n",
    "\n",
    "for img_id in test_ids:\n",
    "    img_info = coco.loadImgs(img_id)[0]\n",
    "    img_path = os.path.join(dataDir, img_info['file_name'])  # Removed extra dataType\n",
    "    shutil.copy(img_path, test_img_dir)\n"
   ]
  },
  {
   "attachments": {},
   "cell_type": "markdown",
   "metadata": {},
   "source": [
    "### Extract corresponding annotations and save to new json files"
   ]
  },
  {
   "cell_type": "code",
   "execution_count": null,
   "metadata": {},
   "outputs": [],
   "source": [
    "def filter_annotations(coco, img_ids, save_path):\n",
    "    ann_ids = coco.getAnnIds(imgIds=img_ids, catIds=object_cat_ids)  # Use object_cat_ids here\n",
    "    anns = coco.loadAnns(ann_ids)\n",
    "    img_metas = coco.loadImgs(img_ids)\n",
    "    \n",
    "    # Load categories and create a dictionary mapping category ids to names\n",
    "    cats = coco.loadCats(object_cat_ids)  # Use object_cat_ids here\n",
    "    cat_dict = {cat['id']: cat['name'] for cat in cats}\n",
    "    \n",
    "    # Add category names to the annotations\n",
    "    for ann in anns:\n",
    "        ann['category_name'] = cat_dict[ann['category_id']]\n",
    "\n",
    "    data = {\n",
    "        \"images\": img_metas,\n",
    "        \"annotations\": anns,\n",
    "        \"categories\": cats\n",
    "    }\n",
    "\n",
    "    with open(save_path, 'w') as f:\n",
    "        json.dump(data, f)\n",
    "\n",
    "filter_annotations(coco, train_ids, os.path.join(os.getcwd(), 'train_annotations.json'))\n",
    "filter_annotations(coco, test_ids, os.path.join(os.getcwd(), 'test_annotations.json'))"
   ]
  }
 ],
 "metadata": {
  "kernelspec": {
   "display_name": "Python 3",
   "language": "python",
   "name": "python3"
  },
  "language_info": {
   "codemirror_mode": {
    "name": "ipython",
    "version": 3
   },
   "file_extension": ".py",
   "mimetype": "text/x-python",
   "name": "python",
   "nbconvert_exporter": "python",
   "pygments_lexer": "ipython3",
   "version": "3.9.12"
  },
  "orig_nbformat": 4
 },
 "nbformat": 4,
 "nbformat_minor": 2
}
