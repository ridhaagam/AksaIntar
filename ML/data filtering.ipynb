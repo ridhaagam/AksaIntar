{
 "cells": [
  {
   "attachments": {},
   "cell_type": "markdown",
   "metadata": {},
   "source": [
    "# Capstone Project "
   ]
  },
  {
   "attachments": {},
   "cell_type": "markdown",
   "metadata": {},
   "source": [
    "### Install pip:\n",
    "\n",
    "pip install torch torchvision matplotlib"
   ]
  },
  {
   "attachments": {},
   "cell_type": "markdown",
   "metadata": {},
   "source": [
    "### Import necessary libraries"
   ]
  },
  {
   "cell_type": "code",
   "execution_count": 3,
   "metadata": {},
   "outputs": [],
   "source": [
    "import os\n",
    "import json\n",
    "import random\n",
    "import shutil\n",
    "from pycocotools.coco import COCO\n",
    "import zipfile\n"
   ]
  },
  {
   "attachments": {},
   "cell_type": "markdown",
   "metadata": {},
   "source": [
    "### Initialize COCO API for instance annotations"
   ]
  },
  {
   "cell_type": "code",
   "execution_count": 14,
   "metadata": {},
   "outputs": [
    {
     "name": "stdout",
     "output_type": "stream",
     "text": [
      "loading annotations into memory...\n",
      "Done (t=0.79s)\n",
      "creating index...\n",
      "index created!\n"
     ]
    }
   ],
   "source": [
    "dataDir = r'C:\\Users\\muhri\\Untitled Folder 1\\ML'  # adjust this to your data directory\n",
    "dataType = 'val2017'\n",
    "annDir = r'C:\\Users\\muhri\\Untitled Folder 1\\ML\\annotations'\n",
    "annFile = '{}\\instances_{}.json'.format(annDir, dataType)\n",
    "\n",
    "coco = COCO(annFile)\n"
   ]
  },
  {
   "cell_type": "code",
   "execution_count": 16,
   "metadata": {},
   "outputs": [
    {
     "name": "stdout",
     "output_type": "stream",
     "text": [
      "airplane: 49\n",
      "train: 49\n",
      "bird: 51\n",
      "sheep: 31\n",
      "cow: 47\n",
      "elephant: 48\n",
      "bear: 41\n",
      "zebra: 70\n",
      "giraffe: 72\n",
      "toilet: 47\n",
      "clock: 68\n"
     ]
    }
   ],
   "source": [
    "\n",
    "# Get all categories\n",
    "cats = coco.loadCats(coco.getCatIds())\n",
    "categories = {cat['id']: cat['name'] for cat in cats}\n",
    "\n",
    "# Counter for images per category\n",
    "counter = {cat: 0 for cat in categories.values()}\n",
    "\n",
    "for img_id in coco.getImgIds():\n",
    "    ann_ids = coco.getAnnIds(imgIds=img_id)\n",
    "    anns = coco.loadAnns(ann_ids)\n",
    "    cat_ids = {ann['category_id'] for ann in anns}\n",
    "    if len(cat_ids) == 1:\n",
    "        cat_id = next(iter(cat_ids))\n",
    "        cat_name = categories[cat_id]\n",
    "        counter[cat_name] += 1\n",
    "\n",
    "# Print categories with more than 50 images\n",
    "for category, count in counter.items():\n",
    "    if count > 30:\n",
    "        print(f'{category}: {count}')"
   ]
  },
  {
   "attachments": {},
   "cell_type": "markdown",
   "metadata": {},
   "source": [
    "### Get all image ids and filter them\n",
    "\n"
   ]
  },
  {
   "cell_type": "code",
   "execution_count": 12,
   "metadata": {},
   "outputs": [],
   "source": [
    "# import random\n",
    "\n",
    "object_categories = ['bicycle', 'car', 'motorcycle', 'stop sign', 'cat', 'dog', 'backpack', 'umbrella', \n",
    "                    'handbag', 'bottle', 'cup', 'tv', 'laptop', 'oven', 'scissors']\n",
    "\n",
    "object_cat_ids = coco.getCatIds(catNms=object_categories)\n",
    "object_img_ids = []\n",
    "\n",
    "# Loop over each category\n",
    "for cat_id in object_cat_ids:\n",
    "    # Get all images of this category\n",
    "    img_ids = coco.getImgIds(catIds=cat_id)\n",
    "\n",
    "    # For each image, check if it only has one category\n",
    "    for img_id in img_ids:\n",
    "        ann_ids = coco.getAnnIds(imgIds=img_id)\n",
    "        anns = coco.loadAnns(ann_ids)\n",
    "\n",
    "        # Collect category ids for the annotations\n",
    "        cat_ids = [ann['category_id'] for ann in anns]\n",
    "\n",
    "        # If the image only has this one category and that category is in our object_cat_ids, add it to our list\n",
    "        if len(set(cat_ids)) == 1 and cat_ids[0] == cat_id:\n",
    "            object_img_ids.append(img_id)\n",
    "\n",
    "# Removing duplicates\n",
    "object_img_ids = list(set(object_img_ids))\n",
    "\n",
    "# Shuffle the ids\n",
    "random.shuffle(object_img_ids)\n",
    "\n",
    "# Check if we have enough images\n",
    "num_images_required = min(len(object_img_ids), 700)\n",
    "assert len(object_img_ids) >= num_images_required, f\"Not enough images with the given categories. Only found {len(object_img_ids)} images.\"\n",
    "\n",
    "# Split the images into train and test datasets\n",
    "train_ids = object_img_ids[:int(num_images_required*0.7)]  # 70% of images go to training\n",
    "test_ids = object_img_ids[int(num_images_required*0.7):num_images_required]  # 30% of images go to testing\n",
    "\n"
   ]
  },
  {
   "attachments": {},
   "cell_type": "markdown",
   "metadata": {},
   "source": [
    "### Copy selected images to a new directory"
   ]
  },
  {
   "cell_type": "code",
   "execution_count": 13,
   "metadata": {},
   "outputs": [],
   "source": [
    "import zipfile\n",
    "\n",
    "train_img_dir = 'train_images'\n",
    "test_img_dir = 'test_images'\n",
    "\n",
    "os.makedirs(train_img_dir, exist_ok=True)\n",
    "os.makedirs(test_img_dir, exist_ok=True)\n",
    "\n",
    "for img_id in train_ids:\n",
    "    img_info = coco.loadImgs(img_id)[0]\n",
    "    img_path = os.path.join(dataDir, dataType, img_info['file_name'])\n",
    "    shutil.copy(img_path, os.path.join(train_img_dir, img_info['file_name']))\n",
    "\n",
    "for img_id in test_ids:\n",
    "    img_info = coco.loadImgs(img_id)[0]\n",
    "    img_path = os.path.join(dataDir, dataType, img_info['file_name'])\n",
    "    shutil.copy(img_path, os.path.join(test_img_dir, img_info['file_name']))\n",
    "\n",
    "# zip automatically\n",
    "with zipfile.ZipFile('train_images.zip', 'w', zipfile.ZIP_DEFLATED) as zipf:\n",
    "    for root, dirs, files in os.walk(train_img_dir):\n",
    "        for file in files:\n",
    "            zipf.write(os.path.join(root, file),\n",
    "                       os.path.relpath(os.path.join(root, file),\n",
    "                                       os.path.join(train_img_dir, '..')))\n",
    "\n",
    "with zipfile.ZipFile('test_images.zip', 'w', zipfile.ZIP_DEFLATED) as zipf:\n",
    "    for root, dirs, files in os.walk(test_img_dir):\n",
    "        for file in files:\n",
    "            zipf.write(os.path.join(root, file),\n",
    "                       os.path.relpath(os.path.join(root, file),\n",
    "                                       os.path.join(test_img_dir, '..')))\n"
   ]
  },
  {
   "attachments": {},
   "cell_type": "markdown",
   "metadata": {},
   "source": [
    "### Extract corresponding annotations and save to new json files"
   ]
  },
  {
   "cell_type": "code",
   "execution_count": null,
   "metadata": {},
   "outputs": [],
   "source": [
    "def filter_annotations(coco, img_ids, save_path):\n",
    "    ann_ids = coco.getAnnIds(imgIds=img_ids,  catIds=object_cat_ids)\n",
    "    anns = coco.loadAnns(ann_ids)\n",
    "    \n",
    "    cats = coco.loadCats(object_cat_ids)\n",
    "    cat_dict = {cat['id']: cat['name'] for cat in cats}\n",
    "\n",
    "    # creating a dictionary where each key is an image id and the value is a list of category names associated with that image\n",
    "    image_cat_dict = {}\n",
    "    for ann in anns:\n",
    "        img_id = ann['image_id']\n",
    "        if img_id not in image_cat_dict:\n",
    "            image_cat_dict[img_id] = []\n",
    "        image_cat_dict[img_id].append(cat_dict[ann['category_id']])\n",
    "    \n",
    "    img_metas = coco.loadImgs(img_ids)\n",
    "\n",
    "    # adding the categories to the image metadata\n",
    "    for img in img_metas:\n",
    "        img['categories'] = image_cat_dict[img['id']]\n",
    "\n",
    "    with open(save_path, 'w') as f:\n",
    "        json.dump(img_metas, f)\n",
    "\n",
    "filter_annotations(coco, train_ids, 'train_annotations.json')\n",
    "filter_annotations(coco, test_ids, 'test_annotations.json')\n"
   ]
  },
  {
   "attachments": {},
   "cell_type": "markdown",
   "metadata": {},
   "source": [
    "### Unzip files after taking from github"
   ]
  },
  {
   "cell_type": "code",
   "execution_count": null,
   "metadata": {},
   "outputs": [],
   "source": [
    "def unzip_file(zip_path, output_path):\n",
    "    with zipfile.ZipFile(zip_path, 'r') as zip_ref:\n",
    "        zip_ref.extractall(output_path)\n",
    "\n",
    "# To use the function, specify the paths\n",
    "unzip_file('train_images.zip', 'train_images')\n",
    "unzip_file('test_images.zip', 'test_images')\n"
   ]
  }
 ],
 "metadata": {
  "kernelspec": {
   "display_name": "Python 3",
   "language": "python",
   "name": "python3"
  },
  "language_info": {
   "codemirror_mode": {
    "name": "ipython",
    "version": 3
   },
   "file_extension": ".py",
   "mimetype": "text/x-python",
   "name": "python",
   "nbconvert_exporter": "python",
   "pygments_lexer": "ipython3",
   "version": "3.9.12"
  },
  "orig_nbformat": 4
 },
 "nbformat": 4,
 "nbformat_minor": 2
}
