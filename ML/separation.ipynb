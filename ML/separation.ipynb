{
 "cells": [
  {
   "cell_type": "code",
   "execution_count": 21,
   "metadata": {},
   "outputs": [
    {
     "ename": "KeyError",
     "evalue": "'c:\\\\Bangkit\\\\Capstone-Project-C23-PS361\\\\ML\\\\test_images\\\\test_images'",
     "output_type": "error",
     "traceback": [
      "\u001b[1;31m---------------------------------------------------------------------------\u001b[0m",
      "\u001b[1;31mKeyError\u001b[0m                                  Traceback (most recent call last)",
      "Cell \u001b[1;32mIn[21], line 33\u001b[0m\n\u001b[0;32m     30\u001b[0m json_file \u001b[39m=\u001b[39m \u001b[39m'\u001b[39m\u001b[39mtest_annotations.json\u001b[39m\u001b[39m'\u001b[39m\n\u001b[0;32m     31\u001b[0m output_dir \u001b[39m=\u001b[39m \u001b[39m'\u001b[39m\u001b[39mseparation\u001b[39m\u001b[39m'\u001b[39m\n\u001b[1;32m---> 33\u001b[0m separate_images(json_file, output_dir)\n",
      "Cell \u001b[1;32mIn[21], line 15\u001b[0m, in \u001b[0;36mseparate_images\u001b[1;34m(json_file, output_dir)\u001b[0m\n\u001b[0;32m     13\u001b[0m \u001b[39m# Iterate over the JSON data\u001b[39;00m\n\u001b[0;32m     14\u001b[0m \u001b[39mfor\u001b[39;00m item \u001b[39min\u001b[39;00m json_data:\n\u001b[1;32m---> 15\u001b[0m     image_path \u001b[39m=\u001b[39m item[\u001b[39mr\u001b[39;49m\u001b[39m'\u001b[39;49m\u001b[39mc:\u001b[39;49m\u001b[39m\\\u001b[39;49m\u001b[39mBangkit\u001b[39;49m\u001b[39m\\\u001b[39;49m\u001b[39mCapstone-Project-C23-PS361\u001b[39;49m\u001b[39m\\\u001b[39;49m\u001b[39mML\u001b[39;49m\u001b[39m\\\u001b[39;49m\u001b[39mtest_images\u001b[39;49m\u001b[39m\\\u001b[39;49m\u001b[39mtest_images\u001b[39;49m\u001b[39m'\u001b[39;49m]\n\u001b[0;32m     16\u001b[0m     metadata \u001b[39m=\u001b[39m item[\u001b[39m'\u001b[39m\u001b[39mcategories\u001b[39m\u001b[39m'\u001b[39m]\n\u001b[0;32m     18\u001b[0m     \u001b[39m# Create a new directory for the category if it doesn't exist\u001b[39;00m\n",
      "\u001b[1;31mKeyError\u001b[0m: 'c:\\\\Bangkit\\\\Capstone-Project-C23-PS361\\\\ML\\\\test_images\\\\test_images'"
     ]
    }
   ],
   "source": [
    "import os\n",
    "import shutil\n",
    "import json\n",
    "\n",
    "def separate_images(json_file, output_dir):\n",
    "    # Read the JSON file\n",
    "    with open(json_file, 'r') as file:\n",
    "        json_data = json.load(file)\n",
    "\n",
    "    # Create the output directory if it doesn't exist\n",
    "    os.makedirs(output_dir, exist_ok=True)\n",
    "    path = r'c:\\Bangkit\\Capstone-Project-C23-PS361\\ML\\test_images'\n",
    "    # Iterate over the JSON data\n",
    "    for item in json_data:\n",
    "        image_path = item[r'c:\\Bangkit\\Capstone-Project-C23-PS361\\ML\\test_images\\test_images']\n",
    "        metadata = item['categories']\n",
    "\n",
    "        # Create a new directory for the category if it doesn't exist\n",
    "        category_dir = os.path.join(output_dir, metadata)\n",
    "        os.makedirs(category_dir, exist_ok=True)\n",
    "\n",
    "        # Move the image file to the corresponding directory\n",
    "        image_filename = os.path.basename(image_path)\n",
    "        destination_path = os.path.join(category_dir, image_filename)\n",
    "        shutil.move(image_path, destination_path)\n",
    "\n",
    "    print(\"Image separation completed.\")\n",
    "\n",
    "# Usage\n",
    "json_file = 'test_annotations.json'\n",
    "output_dir = 'separation'\n",
    "\n",
    "separate_images(json_file, output_dir)"
   ]
  }
 ],
 "metadata": {
  "kernelspec": {
   "display_name": "Python 3",
   "language": "python",
   "name": "python3"
  },
  "language_info": {
   "codemirror_mode": {
    "name": "ipython",
    "version": 3
   },
   "file_extension": ".py",
   "mimetype": "text/x-python",
   "name": "python",
   "nbconvert_exporter": "python",
   "pygments_lexer": "ipython3",
   "version": "3.11.2"
  },
  "orig_nbformat": 4
 },
 "nbformat": 4,
 "nbformat_minor": 2
}
