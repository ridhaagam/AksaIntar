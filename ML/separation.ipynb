{
 "cells": [
  {
   "cell_type": "markdown",
   "metadata": {},
   "source": [
    "# Imports "
   ]
  },
  {
   "cell_type": "code",
   "execution_count": 5,
   "metadata": {},
   "outputs": [],
   "source": [
    "import os\n",
    "import shutil\n",
    "import json"
   ]
  },
  {
   "cell_type": "markdown",
   "metadata": {},
   "source": [
    "### Seperate Test Images"
   ]
  },
  {
   "cell_type": "code",
   "execution_count": 6,
   "metadata": {},
   "outputs": [
    {
     "name": "stdout",
     "output_type": "stream",
     "text": [
      "Image separation completed.\n"
     ]
    }
   ],
   "source": [
    "def separate_images(json_file, output_dir, base_image_dir):\n",
    "    # Read the JSON file\n",
    "    with open(json_file, 'r') as file:\n",
    "        json_data = json.load(file)\n",
    "\n",
    "    # Create the output directory if it doesn't exist\n",
    "    os.makedirs(output_dir, exist_ok=True)\n",
    "\n",
    "    # Iterate over the JSON data\n",
    "    for item in json_data:\n",
    "        # Get image file_name and categories\n",
    "        image_filename = item['file_name']  # use file_name directly instead of image_id\n",
    "        categories = item['categories']\n",
    "\n",
    "        # Create a new directory for each category if it doesn't exist\n",
    "        for category in categories:\n",
    "            category_dir = os.path.join(output_dir, category)\n",
    "            os.makedirs(category_dir, exist_ok=True)\n",
    "\n",
    "            # Copy the image file to the corresponding category directory\n",
    "            source_path = os.path.join(base_image_dir, image_filename)\n",
    "            if os.path.isfile(source_path):  # Check if the file exists\n",
    "                destination_path = os.path.join(category_dir, image_filename)\n",
    "                shutil.copy(source_path, destination_path)\n",
    "\n",
    "    print(\"Image separation completed.\")\n",
    "\n",
    "# Usage\n",
    "json_file = 'test_annotations.json'\n",
    "output_dir = 'test_images_category'\n",
    "base_image_dir = r'C:\\Users\\USER\\object_detection\\Capstone-Project-C23-PS361\\ML\\test_images'\n",
    "\n",
    "separate_images(json_file, output_dir, base_image_dir)\n"
   ]
  },
  {
   "cell_type": "markdown",
   "metadata": {},
   "source": [
    "### Seperate Train Images"
   ]
  },
  {
   "cell_type": "code",
   "execution_count": 7,
   "metadata": {},
   "outputs": [
    {
     "name": "stdout",
     "output_type": "stream",
     "text": [
      "Image separation completed.\n"
     ]
    }
   ],
   "source": [
    "def separate_images(json_file, output_dir, base_image_dir):\n",
    "    # Read the JSON file\n",
    "    with open(json_file, 'r') as file:\n",
    "        json_data = json.load(file)\n",
    "\n",
    "    # Create the output directory if it doesn't exist\n",
    "    os.makedirs(output_dir, exist_ok=True)\n",
    "\n",
    "    # Iterate over the JSON data\n",
    "    for item in json_data:\n",
    "        # Get image file_name and categories\n",
    "        image_filename = item['file_name']  # use file_name directly instead of image_id\n",
    "        categories = item['categories']\n",
    "\n",
    "        # Create a new directory for each category if it doesn't exist\n",
    "        for category in categories:\n",
    "            category_dir = os.path.join(output_dir, category)\n",
    "            os.makedirs(category_dir, exist_ok=True)\n",
    "\n",
    "            # Copy the image file to the corresponding category directory\n",
    "            source_path = os.path.join(base_image_dir, image_filename)\n",
    "            if os.path.isfile(source_path):  # Check if the file exists\n",
    "                destination_path = os.path.join(category_dir, image_filename)\n",
    "                shutil.copy(source_path, destination_path)\n",
    "\n",
    "    print(\"Image separation completed.\")\n",
    "\n",
    "# Usage\n",
    "json_file = 'train_annotations.json'\n",
    "output_dir = 'train_images_category'\n",
    "base_image_dir = r'C:\\Users\\USER\\object_detection\\Capstone-Project-C23-PS361\\ML\\train_images'\n",
    "\n",
    "separate_images(json_file, output_dir, base_image_dir)\n"
   ]
  },
  {
   "cell_type": "code",
   "execution_count": null,
   "metadata": {},
   "outputs": [],
   "source": []
  }
 ],
 "metadata": {
  "kernelspec": {
   "display_name": "Python 3",
   "language": "python",
   "name": "python3"
  },
  "language_info": {
   "codemirror_mode": {
    "name": "ipython",
    "version": 3
   },
   "file_extension": ".py",
   "mimetype": "text/x-python",
   "name": "python",
   "nbconvert_exporter": "python",
   "pygments_lexer": "ipython3",
   "version": "3.8.5"
  }
 },
 "nbformat": 4,
 "nbformat_minor": 2
}
