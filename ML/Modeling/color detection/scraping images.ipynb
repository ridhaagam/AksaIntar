{
 "cells": [
  {
   "cell_type": "code",
   "execution_count": 4,
   "metadata": {},
   "outputs": [
    {
     "name": "stdout",
     "output_type": "stream",
     "text": [
      "Collecting bing-image-downloader\n",
      "  Downloading bing_image_downloader-1.1.2-py3-none-any.whl (5.9 kB)\n",
      "Installing collected packages: bing-image-downloader\n",
      "Successfully installed bing-image-downloader-1.1.2\n"
     ]
    },
    {
     "name": "stderr",
     "output_type": "stream",
     "text": [
      "WARNING: Ignoring invalid distribution -ensorflow-intel (c:\\users\\muhri\\anaconda3\\lib\\site-packages)\n",
      "WARNING: Ignoring invalid distribution -ensorflow-intel (c:\\users\\muhri\\anaconda3\\lib\\site-packages)\n"
     ]
    }
   ],
   "source": [
    "!pip install bing-image-downloader\n"
   ]
  },
  {
   "cell_type": "code",
   "execution_count": 1,
   "metadata": {},
   "outputs": [
    {
     "name": "stdout",
     "output_type": "stream",
     "text": [
      "[%] Downloading Images to c:\\Users\\muhri\\Untitled Folder 1\\ML\\Modeling\\color detection\\new\\dataset\\laptop\\laptop color object items\n",
      "\n",
      "\n",
      "[!!]Indexing page: 1\n",
      "\n",
      "[%] Indexed 35 Images on Page 1.\n",
      "\n",
      "===============================================\n",
      "\n",
      "[%] Downloading Image #1 from https://cdn.mos.cms.futurecdn.net/74wbbmYYfhZExb22e6cbGG-1200-80.jpg\n",
      "[%] File Downloaded !\n",
      "\n",
      "[%] Downloading Image #2 from https://i.pinimg.com/originals/15/d4/55/15d455e7157c9821a8beaba425e2bd31.jpg\n",
      "[%] File Downloaded !\n",
      "\n",
      "[%] Downloading Image #3 from https://n3.sdlcdn.com/imgs/c/v/s/Spectra-still-object-Laptop-Skin-SDL037602290-1-fc4b8.jpg\n",
      "[%] File Downloaded !\n",
      "\n",
      "[%] Downloading Image #4 from https://sm.pcmag.com/t/pcmag_au/photo/c/color-opti/color-options_wrds.1080.jpg\n",
      "[%] File Downloaded !\n",
      "\n",
      "[%] Downloading Image #5 from https://st3.depositphotos.com/5531104/17310/i/1600/depositphotos_173101806-stock-photo-laptop-pink-color.jpg\n",
      "[%] File Downloaded !\n",
      "\n",
      "[%] Downloading Image #6 from https://www.artlantis3d.com/Objects/_thumb/dooBxoSE5Nj0-laptop.jpg\n",
      "[%] File Downloaded !\n",
      "\n",
      "[%] Downloading Image #7 from https://www.maqme.com/wp-content/uploads/2017/07/How-To-Choose-Laptop-Color-That-Matches-Your-Personality.jpg\n",
      "[%] File Downloaded !\n",
      "\n",
      "[%] Downloading Image #8 from https://ctl.s6img.com/society6/img/KfTrg4uEidI2ql-E2WF5ZgaN1iQ/w_550/laptop-sleeves/small/front/~artwork,fw_4600,fh_3000,iw_4600,ih_3000/s6-0066/a/27243135_9848788/~~/color-illusion-udk-laptop-sleeves.jpg\n",
      "[!] Issue getting: https://ctl.s6img.com/society6/img/KfTrg4uEidI2ql-E2WF5ZgaN1iQ/w_550/laptop-sleeves/small/front/~artwork,fw_4600,fh_3000,iw_4600,ih_3000/s6-0066/a/27243135_9848788/~~/color-illusion-udk-laptop-sleeves.jpg\n",
      "[!] Error:: HTTP Error 403: Forbidden\n",
      "[%] Downloading Image #8 from https://i.pinimg.com/originals/43/5e/06/435e06a0c3be95b366e917af30f35869.jpg\n",
      "[%] File Downloaded !\n",
      "\n",
      "[%] Downloading Image #9 from https://thumbs.dreamstime.com/z/design-table-laptop-color-pencils-palette-paper-view-above-44303447.jpg\n"
     ]
    },
    {
     "ename": "KeyboardInterrupt",
     "evalue": "",
     "output_type": "error",
     "traceback": [
      "\u001b[1;31m---------------------------------------------------------------------------\u001b[0m",
      "\u001b[1;31mKeyboardInterrupt\u001b[0m                         Traceback (most recent call last)",
      "\u001b[1;32mc:\\Users\\muhri\\Untitled Folder 1\\ML\\Modeling\\color detection\\scraping images.ipynb Cell 2\u001b[0m in \u001b[0;36m<cell line: 5>\u001b[1;34m()\u001b[0m\n\u001b[0;32m      <a href='vscode-notebook-cell:/c%3A/Users/muhri/Untitled%20Folder%201/ML/Modeling/color%20detection/scraping%20images.ipynb#W1sZmlsZQ%3D%3D?line=2'>3</a>\u001b[0m labels \u001b[39m=\u001b[39m [\u001b[39m'\u001b[39m\u001b[39mlaptop\u001b[39m\u001b[39m'\u001b[39m]\n\u001b[0;32m      <a href='vscode-notebook-cell:/c%3A/Users/muhri/Untitled%20Folder%201/ML/Modeling/color%20detection/scraping%20images.ipynb#W1sZmlsZQ%3D%3D?line=4'>5</a>\u001b[0m \u001b[39mfor\u001b[39;00m label \u001b[39min\u001b[39;00m labels:\n\u001b[1;32m----> <a href='vscode-notebook-cell:/c%3A/Users/muhri/Untitled%20Folder%201/ML/Modeling/color%20detection/scraping%20images.ipynb#W1sZmlsZQ%3D%3D?line=5'>6</a>\u001b[0m     downloader\u001b[39m.\u001b[39;49mdownload(\u001b[39mf\u001b[39;49m\u001b[39m\"\u001b[39;49m\u001b[39m{\u001b[39;49;00mlabel\u001b[39m}\u001b[39;49;00m\u001b[39m color object items\u001b[39;49m\u001b[39m\"\u001b[39;49m, limit\u001b[39m=\u001b[39;49m\u001b[39m100\u001b[39;49m,  output_dir\u001b[39m=\u001b[39;49m\u001b[39mf\u001b[39;49m\u001b[39m'\u001b[39;49m\u001b[39mnew/dataset/\u001b[39;49m\u001b[39m{\u001b[39;49;00mlabel\u001b[39m}\u001b[39;49;00m\u001b[39m'\u001b[39;49m, adult_filter_off\u001b[39m=\u001b[39;49m\u001b[39mTrue\u001b[39;49;00m, force_replace\u001b[39m=\u001b[39;49m\u001b[39mFalse\u001b[39;49;00m, timeout\u001b[39m=\u001b[39;49m\u001b[39m60\u001b[39;49m)\n",
      "File \u001b[1;32mc:\\Users\\muhri\\anaconda3\\lib\\site-packages\\bing_image_downloader\\downloader.py:38\u001b[0m, in \u001b[0;36mdownload\u001b[1;34m(query, limit, output_dir, adult_filter_off, force_replace, timeout, filter, verbose)\u001b[0m\n\u001b[0;32m     36\u001b[0m \u001b[39mprint\u001b[39m(\u001b[39m\"\u001b[39m\u001b[39m[\u001b[39m\u001b[39m%\u001b[39m\u001b[39m] Downloading Images to \u001b[39m\u001b[39m{}\u001b[39;00m\u001b[39m\"\u001b[39m\u001b[39m.\u001b[39mformat(\u001b[39mstr\u001b[39m(image_dir\u001b[39m.\u001b[39mabsolute())))\n\u001b[0;32m     37\u001b[0m bing \u001b[39m=\u001b[39m Bing(query, limit, image_dir, adult, timeout, \u001b[39mfilter\u001b[39m, verbose)\n\u001b[1;32m---> 38\u001b[0m bing\u001b[39m.\u001b[39;49mrun()\n",
      "File \u001b[1;32mc:\\Users\\muhri\\anaconda3\\lib\\site-packages\\bing_image_downloader\\bing.py:112\u001b[0m, in \u001b[0;36mBing.run\u001b[1;34m(self)\u001b[0m\n\u001b[0;32m    110\u001b[0m         \u001b[39mif\u001b[39;00m \u001b[39mself\u001b[39m\u001b[39m.\u001b[39mdownload_count \u001b[39m<\u001b[39m \u001b[39mself\u001b[39m\u001b[39m.\u001b[39mlimit \u001b[39mand\u001b[39;00m link \u001b[39mnot\u001b[39;00m \u001b[39min\u001b[39;00m \u001b[39mself\u001b[39m\u001b[39m.\u001b[39mseen:\n\u001b[0;32m    111\u001b[0m             \u001b[39mself\u001b[39m\u001b[39m.\u001b[39mseen\u001b[39m.\u001b[39madd(link)\n\u001b[1;32m--> 112\u001b[0m             \u001b[39mself\u001b[39;49m\u001b[39m.\u001b[39;49mdownload_image(link)\n\u001b[0;32m    114\u001b[0m     \u001b[39mself\u001b[39m\u001b[39m.\u001b[39mpage_counter \u001b[39m+\u001b[39m\u001b[39m=\u001b[39m \u001b[39m1\u001b[39m\n\u001b[0;32m    115\u001b[0m \u001b[39mprint\u001b[39m(\u001b[39m\"\u001b[39m\u001b[39m\\n\u001b[39;00m\u001b[39m\\n\u001b[39;00m\u001b[39m[\u001b[39m\u001b[39m%\u001b[39m\u001b[39m] Done. Downloaded \u001b[39m\u001b[39m{}\u001b[39;00m\u001b[39m images.\u001b[39m\u001b[39m\"\u001b[39m\u001b[39m.\u001b[39mformat(\u001b[39mself\u001b[39m\u001b[39m.\u001b[39mdownload_count))\n",
      "File \u001b[1;32mc:\\Users\\muhri\\anaconda3\\lib\\site-packages\\bing_image_downloader\\bing.py:80\u001b[0m, in \u001b[0;36mBing.download_image\u001b[1;34m(self, link)\u001b[0m\n\u001b[0;32m     76\u001b[0m \u001b[39mif\u001b[39;00m \u001b[39mself\u001b[39m\u001b[39m.\u001b[39mverbose:\n\u001b[0;32m     77\u001b[0m     \u001b[39m# Download the image\u001b[39;00m\n\u001b[0;32m     78\u001b[0m     \u001b[39mprint\u001b[39m(\u001b[39m\"\u001b[39m\u001b[39m[\u001b[39m\u001b[39m%\u001b[39m\u001b[39m] Downloading Image #\u001b[39m\u001b[39m{}\u001b[39;00m\u001b[39m from \u001b[39m\u001b[39m{}\u001b[39;00m\u001b[39m\"\u001b[39m\u001b[39m.\u001b[39mformat(\u001b[39mself\u001b[39m\u001b[39m.\u001b[39mdownload_count, link))\n\u001b[1;32m---> 80\u001b[0m \u001b[39mself\u001b[39;49m\u001b[39m.\u001b[39;49msave_image(link, \u001b[39mself\u001b[39;49m\u001b[39m.\u001b[39;49moutput_dir\u001b[39m.\u001b[39;49mjoinpath(\u001b[39m\"\u001b[39;49m\u001b[39mImage_\u001b[39;49m\u001b[39m{}\u001b[39;49;00m\u001b[39m.\u001b[39;49m\u001b[39m{}\u001b[39;49;00m\u001b[39m\"\u001b[39;49m\u001b[39m.\u001b[39;49mformat(\n\u001b[0;32m     81\u001b[0m     \u001b[39mstr\u001b[39;49m(\u001b[39mself\u001b[39;49m\u001b[39m.\u001b[39;49mdownload_count), file_type)))\n\u001b[0;32m     82\u001b[0m \u001b[39mif\u001b[39;00m \u001b[39mself\u001b[39m\u001b[39m.\u001b[39mverbose:\n\u001b[0;32m     83\u001b[0m     \u001b[39mprint\u001b[39m(\u001b[39m\"\u001b[39m\u001b[39m[\u001b[39m\u001b[39m%\u001b[39m\u001b[39m] File Downloaded !\u001b[39m\u001b[39m\\n\u001b[39;00m\u001b[39m\"\u001b[39m)\n",
      "File \u001b[1;32mc:\\Users\\muhri\\anaconda3\\lib\\site-packages\\bing_image_downloader\\bing.py:58\u001b[0m, in \u001b[0;36mBing.save_image\u001b[1;34m(self, link, file_path)\u001b[0m\n\u001b[0;32m     56\u001b[0m \u001b[39mdef\u001b[39;00m \u001b[39msave_image\u001b[39m(\u001b[39mself\u001b[39m, link, file_path):\n\u001b[0;32m     57\u001b[0m     request \u001b[39m=\u001b[39m urllib\u001b[39m.\u001b[39mrequest\u001b[39m.\u001b[39mRequest(link, \u001b[39mNone\u001b[39;00m, \u001b[39mself\u001b[39m\u001b[39m.\u001b[39mheaders)\n\u001b[1;32m---> 58\u001b[0m     image \u001b[39m=\u001b[39m urllib\u001b[39m.\u001b[39;49mrequest\u001b[39m.\u001b[39;49murlopen(request, timeout\u001b[39m=\u001b[39;49m\u001b[39mself\u001b[39;49m\u001b[39m.\u001b[39;49mtimeout)\u001b[39m.\u001b[39;49mread()\n\u001b[0;32m     59\u001b[0m     \u001b[39mif\u001b[39;00m \u001b[39mnot\u001b[39;00m imghdr\u001b[39m.\u001b[39mwhat(\u001b[39mNone\u001b[39;00m, image):\n\u001b[0;32m     60\u001b[0m         \u001b[39mprint\u001b[39m(\u001b[39m'\u001b[39m\u001b[39m[Error]Invalid image, not saving \u001b[39m\u001b[39m{}\u001b[39;00m\u001b[39m\\n\u001b[39;00m\u001b[39m'\u001b[39m\u001b[39m.\u001b[39mformat(link))\n",
      "File \u001b[1;32mc:\\Users\\muhri\\anaconda3\\lib\\http\\client.py:476\u001b[0m, in \u001b[0;36mHTTPResponse.read\u001b[1;34m(self, amt)\u001b[0m\n\u001b[0;32m    474\u001b[0m \u001b[39melse\u001b[39;00m:\n\u001b[0;32m    475\u001b[0m     \u001b[39mtry\u001b[39;00m:\n\u001b[1;32m--> 476\u001b[0m         s \u001b[39m=\u001b[39m \u001b[39mself\u001b[39;49m\u001b[39m.\u001b[39;49m_safe_read(\u001b[39mself\u001b[39;49m\u001b[39m.\u001b[39;49mlength)\n\u001b[0;32m    477\u001b[0m     \u001b[39mexcept\u001b[39;00m IncompleteRead:\n\u001b[0;32m    478\u001b[0m         \u001b[39mself\u001b[39m\u001b[39m.\u001b[39m_close_conn()\n",
      "File \u001b[1;32mc:\\Users\\muhri\\anaconda3\\lib\\http\\client.py:626\u001b[0m, in \u001b[0;36mHTTPResponse._safe_read\u001b[1;34m(self, amt)\u001b[0m\n\u001b[0;32m    624\u001b[0m s \u001b[39m=\u001b[39m []\n\u001b[0;32m    625\u001b[0m \u001b[39mwhile\u001b[39;00m amt \u001b[39m>\u001b[39m \u001b[39m0\u001b[39m:\n\u001b[1;32m--> 626\u001b[0m     chunk \u001b[39m=\u001b[39m \u001b[39mself\u001b[39;49m\u001b[39m.\u001b[39;49mfp\u001b[39m.\u001b[39;49mread(\u001b[39mmin\u001b[39;49m(amt, MAXAMOUNT))\n\u001b[0;32m    627\u001b[0m     \u001b[39mif\u001b[39;00m \u001b[39mnot\u001b[39;00m chunk:\n\u001b[0;32m    628\u001b[0m         \u001b[39mraise\u001b[39;00m IncompleteRead(\u001b[39mb\u001b[39m\u001b[39m'\u001b[39m\u001b[39m'\u001b[39m\u001b[39m.\u001b[39mjoin(s), amt)\n",
      "File \u001b[1;32mc:\\Users\\muhri\\anaconda3\\lib\\socket.py:704\u001b[0m, in \u001b[0;36mSocketIO.readinto\u001b[1;34m(self, b)\u001b[0m\n\u001b[0;32m    702\u001b[0m \u001b[39mwhile\u001b[39;00m \u001b[39mTrue\u001b[39;00m:\n\u001b[0;32m    703\u001b[0m     \u001b[39mtry\u001b[39;00m:\n\u001b[1;32m--> 704\u001b[0m         \u001b[39mreturn\u001b[39;00m \u001b[39mself\u001b[39;49m\u001b[39m.\u001b[39;49m_sock\u001b[39m.\u001b[39;49mrecv_into(b)\n\u001b[0;32m    705\u001b[0m     \u001b[39mexcept\u001b[39;00m timeout:\n\u001b[0;32m    706\u001b[0m         \u001b[39mself\u001b[39m\u001b[39m.\u001b[39m_timeout_occurred \u001b[39m=\u001b[39m \u001b[39mTrue\u001b[39;00m\n",
      "File \u001b[1;32mc:\\Users\\muhri\\anaconda3\\lib\\ssl.py:1241\u001b[0m, in \u001b[0;36mSSLSocket.recv_into\u001b[1;34m(self, buffer, nbytes, flags)\u001b[0m\n\u001b[0;32m   1237\u001b[0m     \u001b[39mif\u001b[39;00m flags \u001b[39m!=\u001b[39m \u001b[39m0\u001b[39m:\n\u001b[0;32m   1238\u001b[0m         \u001b[39mraise\u001b[39;00m \u001b[39mValueError\u001b[39;00m(\n\u001b[0;32m   1239\u001b[0m           \u001b[39m\"\u001b[39m\u001b[39mnon-zero flags not allowed in calls to recv_into() on \u001b[39m\u001b[39m%s\u001b[39;00m\u001b[39m\"\u001b[39m \u001b[39m%\u001b[39m\n\u001b[0;32m   1240\u001b[0m           \u001b[39mself\u001b[39m\u001b[39m.\u001b[39m\u001b[39m__class__\u001b[39m)\n\u001b[1;32m-> 1241\u001b[0m     \u001b[39mreturn\u001b[39;00m \u001b[39mself\u001b[39;49m\u001b[39m.\u001b[39;49mread(nbytes, buffer)\n\u001b[0;32m   1242\u001b[0m \u001b[39melse\u001b[39;00m:\n\u001b[0;32m   1243\u001b[0m     \u001b[39mreturn\u001b[39;00m \u001b[39msuper\u001b[39m()\u001b[39m.\u001b[39mrecv_into(buffer, nbytes, flags)\n",
      "File \u001b[1;32mc:\\Users\\muhri\\anaconda3\\lib\\ssl.py:1099\u001b[0m, in \u001b[0;36mSSLSocket.read\u001b[1;34m(self, len, buffer)\u001b[0m\n\u001b[0;32m   1097\u001b[0m \u001b[39mtry\u001b[39;00m:\n\u001b[0;32m   1098\u001b[0m     \u001b[39mif\u001b[39;00m buffer \u001b[39mis\u001b[39;00m \u001b[39mnot\u001b[39;00m \u001b[39mNone\u001b[39;00m:\n\u001b[1;32m-> 1099\u001b[0m         \u001b[39mreturn\u001b[39;00m \u001b[39mself\u001b[39;49m\u001b[39m.\u001b[39;49m_sslobj\u001b[39m.\u001b[39;49mread(\u001b[39mlen\u001b[39;49m, buffer)\n\u001b[0;32m   1100\u001b[0m     \u001b[39melse\u001b[39;00m:\n\u001b[0;32m   1101\u001b[0m         \u001b[39mreturn\u001b[39;00m \u001b[39mself\u001b[39m\u001b[39m.\u001b[39m_sslobj\u001b[39m.\u001b[39mread(\u001b[39mlen\u001b[39m)\n",
      "\u001b[1;31mKeyboardInterrupt\u001b[0m: "
     ]
    }
   ],
   "source": [
    "from bing_image_downloader import downloader\n",
    "\n",
    "labels = ['laptop']\n",
    "\n",
    "for label in labels:\n",
    "    downloader.download(f\"{label} color object items\", limit=100,  output_dir=f'new/dataset/{label}', adult_filter_off=True, force_replace=False, timeout=60)\n"
   ]
  },
  {
   "attachments": {},
   "cell_type": "markdown",
   "metadata": {},
   "source": [
    "## Adding imports"
   ]
  },
  {
   "cell_type": "code",
   "execution_count": 2,
   "metadata": {},
   "outputs": [],
   "source": [
    "import os\n",
    "from PIL import Image"
   ]
  },
  {
   "attachments": {},
   "cell_type": "markdown",
   "metadata": {},
   "source": [
    "## Checking any corrupt file and deleting it"
   ]
  },
  {
   "cell_type": "code",
   "execution_count": 4,
   "metadata": {},
   "outputs": [
    {
     "name": "stdout",
     "output_type": "stream",
     "text": [
      "Bad file: dataset/train/brown\\Image_25.jpg\n",
      "Bad file: dataset/train/green\\Image_33.jpg\n",
      "Bad file: dataset/train/pink\\Image_47.jpg\n",
      "Bad file: dataset/train/yellow\\Image_2.jpg\n",
      "Bad file: dataset/train/yellow\\Image_26.jpg\n",
      "Bad file: dataset/train/yellow\\Image_29.jpg\n"
     ]
    }
   ],
   "source": [
    "def sanitize_images(root_dir):\n",
    "    color_dirs = ['black', 'blue', 'brown', 'green', 'pink', 'red', 'silver', 'white', 'yellow']\n",
    "    for color_dir in color_dirs:\n",
    "        dir_path = os.path.join(root_dir, color_dir)\n",
    "        for subdir, dirs, files in os.walk(dir_path):\n",
    "            for file in files:\n",
    "                file_path = os.path.join(subdir, file)\n",
    "                try:\n",
    "                    with Image.open(file_path) as img:  # open the image file\n",
    "                        img.verify()  # verify that it is, in fact, an image\n",
    "                except (IOError, SyntaxError) as e:\n",
    "                    print('Bad file:', file_path)  # print out the names of corrupt files\n",
    "                    os.remove(file_path)  # remove the corrupt image\n",
    "\n",
    "sanitize_images('dataset/train/')\n"
   ]
  }
 ],
 "metadata": {
  "kernelspec": {
   "display_name": "base",
   "language": "python",
   "name": "python3"
  },
  "language_info": {
   "codemirror_mode": {
    "name": "ipython",
    "version": 3
   },
   "file_extension": ".py",
   "mimetype": "text/x-python",
   "name": "python",
   "nbconvert_exporter": "python",
   "pygments_lexer": "ipython3",
   "version": "3.9.12"
  },
  "orig_nbformat": 4
 },
 "nbformat": 4,
 "nbformat_minor": 2
}
