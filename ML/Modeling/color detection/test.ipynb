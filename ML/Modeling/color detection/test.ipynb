{
 "cells": [
  {
   "attachments": {},
   "cell_type": "markdown",
   "metadata": {},
   "source": [
    "# Import Necessary Libraries"
   ]
  },
  {
   "cell_type": "code",
   "execution_count": 3,
   "metadata": {},
   "outputs": [],
   "source": [
    "from PIL import Image\n",
    "from keras.models import load_model\n",
    "import numpy as np"
   ]
  },
  {
   "attachments": {},
   "cell_type": "markdown",
   "metadata": {},
   "source": [
    "### Loading model"
   ]
  },
  {
   "cell_type": "code",
   "execution_count": 4,
   "metadata": {},
   "outputs": [],
   "source": [
    "# Load the model\n",
    "model = load_model('color_model.h5')"
   ]
  },
  {
   "attachments": {},
   "cell_type": "markdown",
   "metadata": {},
   "source": [
    "# Testing image"
   ]
  },
  {
   "cell_type": "code",
   "execution_count": 7,
   "metadata": {},
   "outputs": [
    {
     "ename": "NameError",
     "evalue": "name 'img_rows' is not defined",
     "output_type": "error",
     "traceback": [
      "\u001b[1;31m---------------------------------------------------------------------------\u001b[0m",
      "\u001b[1;31mNameError\u001b[0m                                 Traceback (most recent call last)",
      "\u001b[1;32mc:\\Users\\muhri\\Untitled Folder 1\\ML\\Modeling\\color detection\\test.ipynb Cell 6\u001b[0m in \u001b[0;36m<cell line: 3>\u001b[1;34m()\u001b[0m\n\u001b[0;32m      <a href='vscode-notebook-cell:/c%3A/Users/muhri/Untitled%20Folder%201/ML/Modeling/color%20detection/test.ipynb#W6sZmlsZQ%3D%3D?line=0'>1</a>\u001b[0m \u001b[39m# Load an image for testing (replace 'test_image.jpg' with your image file)\u001b[39;00m\n\u001b[0;32m      <a href='vscode-notebook-cell:/c%3A/Users/muhri/Untitled%20Folder%201/ML/Modeling/color%20detection/test.ipynb#W6sZmlsZQ%3D%3D?line=1'>2</a>\u001b[0m test_image \u001b[39m=\u001b[39m Image\u001b[39m.\u001b[39mopen(\u001b[39m'\u001b[39m\u001b[39mtest_image.jpg\u001b[39m\u001b[39m'\u001b[39m)\n\u001b[1;32m----> <a href='vscode-notebook-cell:/c%3A/Users/muhri/Untitled%20Folder%201/ML/Modeling/color%20detection/test.ipynb#W6sZmlsZQ%3D%3D?line=2'>3</a>\u001b[0m test_image \u001b[39m=\u001b[39m test_image\u001b[39m.\u001b[39mresize((img_rows, img_cols))\n\u001b[0;32m      <a href='vscode-notebook-cell:/c%3A/Users/muhri/Untitled%20Folder%201/ML/Modeling/color%20detection/test.ipynb#W6sZmlsZQ%3D%3D?line=3'>4</a>\u001b[0m test_image \u001b[39m=\u001b[39m np\u001b[39m.\u001b[39marray(test_image)\n\u001b[0;32m      <a href='vscode-notebook-cell:/c%3A/Users/muhri/Untitled%20Folder%201/ML/Modeling/color%20detection/test.ipynb#W6sZmlsZQ%3D%3D?line=4'>5</a>\u001b[0m test_image \u001b[39m=\u001b[39m np\u001b[39m.\u001b[39mexpand_dims(test_image, axis\u001b[39m=\u001b[39m\u001b[39m0\u001b[39m)\n",
      "\u001b[1;31mNameError\u001b[0m: name 'img_rows' is not defined"
     ]
    }
   ],
   "source": [
    "\n",
    "# Load an image for testing (replace 'test_image.jpg' with your image file)\n",
    "test_image = Image.open('test_image.jpg')\n",
    "test_image = test_image.resize((img_rows, img_cols))\n",
    "test_image = np.array(test_image)\n",
    "test_image = np.expand_dims(test_image, axis=0)\n",
    "\n",
    "# Make a prediction\n",
    "prediction = model.predict(test_image)\n",
    "\n",
    "# Print the prediction\n",
    "labels = ['black', 'blue', 'brown', 'green', 'pink', 'red', 'silver', 'white', 'yellow']\n",
    "predicted_label = labels[np.argmax(prediction)]\n",
    "print(f\"The predicted color is: {predicted_label}\")\n"
   ]
  }
 ],
 "metadata": {
  "kernelspec": {
   "display_name": "base",
   "language": "python",
   "name": "python3"
  },
  "language_info": {
   "codemirror_mode": {
    "name": "ipython",
    "version": 3
   },
   "file_extension": ".py",
   "mimetype": "text/x-python",
   "name": "python",
   "nbconvert_exporter": "python",
   "pygments_lexer": "ipython3",
   "version": "3.9.12"
  },
  "orig_nbformat": 4
 },
 "nbformat": 4,
 "nbformat_minor": 2
}
