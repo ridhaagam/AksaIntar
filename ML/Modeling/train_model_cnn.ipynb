{
 "cells": [
  {
   "attachments": {},
   "cell_type": "markdown",
   "metadata": {},
   "source": [
    "# Train Data - Object Detection"
   ]
  },
  {
   "attachments": {},
   "cell_type": "markdown",
   "metadata": {},
   "source": [
    "## Import necessary libraries"
   ]
  },
  {
   "cell_type": "code",
   "execution_count": 1,
   "metadata": {},
   "outputs": [],
   "source": [
    "import matplotlib.pyplot as plt\n",
    "import tensorflow as tf\n",
    "from tensorflow.keras.preprocessing.image import ImageDataGenerator\n",
    "from tensorflow.keras.models import Sequential\n",
    "from tensorflow.keras.layers import Conv2D, MaxPooling2D\n",
    "from tensorflow.keras.layers import Activation, Dropout, Flatten, Dense\n"
   ]
  },
  {
   "attachments": {},
   "cell_type": "markdown",
   "metadata": {},
   "source": [
    "### Define paths and parameters"
   ]
  },
  {
   "cell_type": "code",
   "execution_count": 4,
   "metadata": {},
   "outputs": [],
   "source": [
    "train_data_dir = r'C:\\Users\\muhri\\Untitled Folder 1\\ML\\train_images_category'\n",
    "test_data_dir = r'C:\\Users\\muhri\\Untitled Folder 1\\ML\\test_images_category'\n",
    "img_width, img_height = 200, 200  # increased the size to better capture features\n",
    "batch_size = 32  # increase the batch size for faster training\n",
    "num_classes = 15  # number of output classes\n",
    "epochs = 50  # number of training epochs"
   ]
  },
  {
   "attachments": {},
   "cell_type": "markdown",
   "metadata": {},
   "source": [
    "### Reshaping images"
   ]
  },
  {
   "cell_type": "code",
   "execution_count": 5,
   "metadata": {},
   "outputs": [],
   "source": [
    "if tf.keras.backend.image_data_format() == 'channels_first':\n",
    "    input_shape = (3, img_width, img_height)\n",
    "else:\n",
    "    input_shape = (img_width, img_height, 3)"
   ]
  },
  {
   "attachments": {},
   "cell_type": "markdown",
   "metadata": {},
   "source": [
    "### Defining sequential model"
   ]
  },
  {
   "cell_type": "code",
   "execution_count": 6,
   "metadata": {},
   "outputs": [],
   "source": [
    "model = Sequential()\n",
    "model.add(Conv2D(32, (3, 3), input_shape=input_shape))\n",
    "model.add(Activation('relu'))\n",
    "model.add(MaxPooling2D(pool_size=(2, 2)))\n",
    "\n",
    "model.add(Conv2D(32, (3, 3)))\n",
    "model.add(Activation('relu'))\n",
    "model.add(MaxPooling2D(pool_size=(2, 2)))\n",
    "\n",
    "model.add(Conv2D(64, (3, 3)))\n",
    "model.add(Activation('relu'))\n",
    "model.add(MaxPooling2D(pool_size=(2, 2)))\n",
    "\n",
    "model.add(Flatten())\n",
    "model.add(Dense(64))\n",
    "model.add(Activation('relu'))\n",
    "model.add(Dropout(0.5))\n",
    "model.add(Dense(num_classes))\n",
    "model.add(Activation('softmax'))\n",
    "\n",
    "model.compile(loss='categorical_crossentropy',\n",
    "            optimizer='adam',\n",
    "            metrics=['accuracy'])\n"
   ]
  },
  {
   "attachments": {},
   "cell_type": "markdown",
   "metadata": {},
   "source": [
    "### Augmentation configuration we will use for training"
   ]
  },
  {
   "cell_type": "code",
   "execution_count": 7,
   "metadata": {},
   "outputs": [],
   "source": [
    "train_datagen = ImageDataGenerator(\n",
    "    rescale=1. / 255,\n",
    "    shear_range=0.2,\n",
    "    zoom_range=0.2,\n",
    "    horizontal_flip=True)"
   ]
  },
  {
   "attachments": {},
   "cell_type": "markdown",
   "metadata": {},
   "source": [
    "### Augmentation configuration we will use for testing (just rescaling)"
   ]
  },
  {
   "cell_type": "code",
   "execution_count": 8,
   "metadata": {},
   "outputs": [
    {
     "name": "stdout",
     "output_type": "stream",
     "text": [
      "Found 1600 images belonging to 15 classes.\n",
      "Found 400 images belonging to 15 classes.\n"
     ]
    }
   ],
   "source": [
    "test_datagen = ImageDataGenerator(rescale=1. / 255)\n",
    "\n",
    "train_generator = train_datagen.flow_from_directory(\n",
    "    train_data_dir,\n",
    "    target_size=(img_width, img_height),\n",
    "    batch_size=batch_size,\n",
    "    class_mode='categorical')\n",
    "\n",
    "test_generator = test_datagen.flow_from_directory(\n",
    "    test_data_dir,\n",
    "    target_size=(img_width, img_height),\n",
    "    batch_size=batch_size,\n",
    "    class_mode='categorical')"
   ]
  },
  {
   "attachments": {},
   "cell_type": "markdown",
   "metadata": {},
   "source": [
    "### Generator for training data"
   ]
  },
  {
   "cell_type": "code",
   "execution_count": 9,
   "metadata": {},
   "outputs": [
    {
     "name": "stderr",
     "output_type": "stream",
     "text": [
      "C:\\Users\\muhri\\AppData\\Local\\Temp\\ipykernel_14328\\3807075839.py:1: UserWarning: `Model.fit_generator` is deprecated and will be removed in a future version. Please use `Model.fit`, which supports generators.\n",
      "  model.fit_generator(\n"
     ]
    },
    {
     "name": "stdout",
     "output_type": "stream",
     "text": [
      "Epoch 1/50\n",
      "50/50 [==============================] - 55s 1s/step - loss: 2.4555 - accuracy: 0.2650 - val_loss: 2.3928 - val_accuracy: 0.2682\n",
      "Epoch 2/50\n",
      "50/50 [==============================] - 40s 791ms/step - loss: 2.3202 - accuracy: 0.2794 - val_loss: 2.1744 - val_accuracy: 0.2891\n",
      "Epoch 3/50\n",
      "50/50 [==============================] - 35s 703ms/step - loss: 2.2417 - accuracy: 0.2912 - val_loss: 2.1645 - val_accuracy: 0.3229\n",
      "Epoch 4/50\n",
      "50/50 [==============================] - 35s 702ms/step - loss: 2.1913 - accuracy: 0.3206 - val_loss: 2.0619 - val_accuracy: 0.3385\n",
      "Epoch 5/50\n",
      "50/50 [==============================] - 35s 700ms/step - loss: 2.0970 - accuracy: 0.3500 - val_loss: 2.0916 - val_accuracy: 0.3229\n",
      "Epoch 6/50\n",
      "50/50 [==============================] - 35s 704ms/step - loss: 2.0815 - accuracy: 0.3619 - val_loss: 2.0440 - val_accuracy: 0.3151\n",
      "Epoch 7/50\n",
      "50/50 [==============================] - 35s 705ms/step - loss: 2.0430 - accuracy: 0.3581 - val_loss: 2.0172 - val_accuracy: 0.3542\n",
      "Epoch 8/50\n",
      "50/50 [==============================] - 35s 700ms/step - loss: 2.0022 - accuracy: 0.3663 - val_loss: 2.0794 - val_accuracy: 0.3307\n",
      "Epoch 9/50\n",
      "50/50 [==============================] - 35s 699ms/step - loss: 1.9666 - accuracy: 0.3713 - val_loss: 2.0157 - val_accuracy: 0.3490\n",
      "Epoch 10/50\n",
      "50/50 [==============================] - 35s 701ms/step - loss: 1.9153 - accuracy: 0.3781 - val_loss: 1.9035 - val_accuracy: 0.3776\n",
      "Epoch 11/50\n",
      "50/50 [==============================] - 38s 759ms/step - loss: 1.9011 - accuracy: 0.3787 - val_loss: 1.9230 - val_accuracy: 0.3594\n",
      "Epoch 12/50\n",
      "50/50 [==============================] - 40s 790ms/step - loss: 1.8883 - accuracy: 0.3800 - val_loss: 1.9010 - val_accuracy: 0.3828\n",
      "Epoch 13/50\n",
      "50/50 [==============================] - 38s 763ms/step - loss: 1.8346 - accuracy: 0.4044 - val_loss: 1.8811 - val_accuracy: 0.3802\n",
      "Epoch 14/50\n",
      "50/50 [==============================] - 39s 766ms/step - loss: 1.8157 - accuracy: 0.4056 - val_loss: 2.0368 - val_accuracy: 0.3932\n",
      "Epoch 15/50\n",
      "50/50 [==============================] - 37s 737ms/step - loss: 1.7450 - accuracy: 0.4306 - val_loss: 1.9871 - val_accuracy: 0.3698\n",
      "Epoch 16/50\n",
      "50/50 [==============================] - 36s 713ms/step - loss: 1.7114 - accuracy: 0.4294 - val_loss: 2.2659 - val_accuracy: 0.3516\n",
      "Epoch 17/50\n",
      "50/50 [==============================] - 36s 713ms/step - loss: 1.7189 - accuracy: 0.4256 - val_loss: 1.9726 - val_accuracy: 0.3828\n",
      "Epoch 18/50\n",
      "50/50 [==============================] - 36s 723ms/step - loss: 1.7088 - accuracy: 0.4400 - val_loss: 1.9526 - val_accuracy: 0.3828\n",
      "Epoch 19/50\n",
      "50/50 [==============================] - 39s 783ms/step - loss: 1.6424 - accuracy: 0.4419 - val_loss: 1.9395 - val_accuracy: 0.4141\n",
      "Epoch 20/50\n",
      "50/50 [==============================] - 37s 745ms/step - loss: 1.6054 - accuracy: 0.4762 - val_loss: 2.1312 - val_accuracy: 0.4036\n",
      "Epoch 21/50\n",
      "50/50 [==============================] - 40s 794ms/step - loss: 1.5751 - accuracy: 0.4700 - val_loss: 1.9049 - val_accuracy: 0.4010\n",
      "Epoch 22/50\n",
      "50/50 [==============================] - 37s 732ms/step - loss: 1.5479 - accuracy: 0.4700 - val_loss: 2.0345 - val_accuracy: 0.4062\n",
      "Epoch 23/50\n",
      "50/50 [==============================] - 38s 755ms/step - loss: 1.5428 - accuracy: 0.4737 - val_loss: 1.9437 - val_accuracy: 0.4167\n",
      "Epoch 24/50\n",
      "50/50 [==============================] - 38s 750ms/step - loss: 1.4936 - accuracy: 0.4913 - val_loss: 1.9678 - val_accuracy: 0.3958\n",
      "Epoch 25/50\n",
      "50/50 [==============================] - 37s 745ms/step - loss: 1.4673 - accuracy: 0.5125 - val_loss: 1.9580 - val_accuracy: 0.4062\n",
      "Epoch 26/50\n",
      "50/50 [==============================] - 39s 769ms/step - loss: 1.4148 - accuracy: 0.5213 - val_loss: 1.9893 - val_accuracy: 0.4427\n",
      "Epoch 27/50\n",
      "50/50 [==============================] - 38s 756ms/step - loss: 1.4174 - accuracy: 0.5075 - val_loss: 2.1210 - val_accuracy: 0.4401\n",
      "Epoch 28/50\n",
      "50/50 [==============================] - 36s 711ms/step - loss: 1.4052 - accuracy: 0.5144 - val_loss: 2.0895 - val_accuracy: 0.4271\n",
      "Epoch 29/50\n",
      "50/50 [==============================] - 36s 716ms/step - loss: 1.3643 - accuracy: 0.5250 - val_loss: 2.3000 - val_accuracy: 0.4115\n",
      "Epoch 30/50\n",
      "50/50 [==============================] - 36s 712ms/step - loss: 1.3110 - accuracy: 0.5587 - val_loss: 2.0671 - val_accuracy: 0.4219\n",
      "Epoch 31/50\n",
      "50/50 [==============================] - 36s 716ms/step - loss: 1.2916 - accuracy: 0.5494 - val_loss: 2.2361 - val_accuracy: 0.4089\n",
      "Epoch 32/50\n",
      "50/50 [==============================] - 36s 715ms/step - loss: 1.2380 - accuracy: 0.5681 - val_loss: 2.4213 - val_accuracy: 0.3906\n",
      "Epoch 33/50\n",
      "50/50 [==============================] - 36s 719ms/step - loss: 1.2671 - accuracy: 0.5506 - val_loss: 2.4591 - val_accuracy: 0.4167\n",
      "Epoch 34/50\n",
      "50/50 [==============================] - 36s 717ms/step - loss: 1.2503 - accuracy: 0.5669 - val_loss: 2.1608 - val_accuracy: 0.3958\n",
      "Epoch 35/50\n",
      "50/50 [==============================] - 39s 777ms/step - loss: 1.2015 - accuracy: 0.5750 - val_loss: 2.4109 - val_accuracy: 0.4062\n",
      "Epoch 36/50\n",
      "50/50 [==============================] - 40s 794ms/step - loss: 1.2329 - accuracy: 0.5694 - val_loss: 2.3713 - val_accuracy: 0.4167\n",
      "Epoch 37/50\n",
      "50/50 [==============================] - 40s 793ms/step - loss: 1.2095 - accuracy: 0.5725 - val_loss: 2.3403 - val_accuracy: 0.4297\n",
      "Epoch 38/50\n",
      "50/50 [==============================] - 39s 784ms/step - loss: 1.1606 - accuracy: 0.5744 - val_loss: 2.3286 - val_accuracy: 0.4010\n",
      "Epoch 39/50\n",
      "50/50 [==============================] - 40s 790ms/step - loss: 1.1892 - accuracy: 0.5688 - val_loss: 2.3901 - val_accuracy: 0.4193\n",
      "Epoch 40/50\n",
      "50/50 [==============================] - 40s 789ms/step - loss: 1.1385 - accuracy: 0.6012 - val_loss: 2.1042 - val_accuracy: 0.4271\n",
      "Epoch 41/50\n",
      "50/50 [==============================] - 39s 775ms/step - loss: 1.1226 - accuracy: 0.5838 - val_loss: 2.4156 - val_accuracy: 0.4375\n",
      "Epoch 42/50\n",
      "50/50 [==============================] - 38s 764ms/step - loss: 1.0460 - accuracy: 0.6269 - val_loss: 2.3567 - val_accuracy: 0.4141\n",
      "Epoch 43/50\n",
      "50/50 [==============================] - 39s 769ms/step - loss: 1.0747 - accuracy: 0.6212 - val_loss: 2.1735 - val_accuracy: 0.4323\n",
      "Epoch 44/50\n",
      "50/50 [==============================] - 39s 781ms/step - loss: 1.0508 - accuracy: 0.6281 - val_loss: 2.2251 - val_accuracy: 0.4453\n",
      "Epoch 45/50\n",
      "50/50 [==============================] - 39s 782ms/step - loss: 1.0307 - accuracy: 0.6313 - val_loss: 2.6335 - val_accuracy: 0.4115\n",
      "Epoch 46/50\n",
      "50/50 [==============================] - 39s 767ms/step - loss: 1.1091 - accuracy: 0.6119 - val_loss: 2.2643 - val_accuracy: 0.4505\n",
      "Epoch 47/50\n",
      "50/50 [==============================] - 38s 761ms/step - loss: 1.0095 - accuracy: 0.6350 - val_loss: 2.4236 - val_accuracy: 0.4479\n",
      "Epoch 48/50\n",
      "50/50 [==============================] - 39s 766ms/step - loss: 1.0116 - accuracy: 0.6275 - val_loss: 2.7169 - val_accuracy: 0.4115\n",
      "Epoch 49/50\n",
      "50/50 [==============================] - 38s 765ms/step - loss: 0.9751 - accuracy: 0.6338 - val_loss: 2.6181 - val_accuracy: 0.4297\n",
      "Epoch 50/50\n",
      "50/50 [==============================] - 39s 767ms/step - loss: 1.0029 - accuracy: 0.6394 - val_loss: 2.3419 - val_accuracy: 0.4505\n"
     ]
    },
    {
     "data": {
      "text/plain": [
       "<keras.callbacks.History at 0x21378e67cd0>"
      ]
     },
     "execution_count": 9,
     "metadata": {},
     "output_type": "execute_result"
    }
   ],
   "source": [
    "model.fit_generator(\n",
    "    train_generator,\n",
    "    steps_per_epoch=train_generator.samples // batch_size,\n",
    "    epochs=epochs,\n",
    "    validation_data=test_generator,\n",
    "    validation_steps=test_generator.samples // batch_size)"
   ]
  },
  {
   "attachments": {},
   "cell_type": "markdown",
   "metadata": {},
   "source": [
    "Plotted images for the "
   ]
  },
  {
   "cell_type": "code",
   "execution_count": 11,
   "metadata": {},
   "outputs": [
    {
     "data": {
      "image/png": "[encoded data removed]",
      "text/plain": [
       "<Figure size 864x288 with 2 Axes>"
      ]
     },
     "metadata": {
      "needs_background": "light"
     },
     "output_type": "display_data"
    }
   ],
   "source": [
    "plt.figure(figsize=(12, 4))\n",
    "\n",
    "plt.subplot(1, 2, 1)\n",
    "plt.plot(model.history.history['accuracy'], label='Train Accuracy')\n",
    "plt.plot(model.history.history['val_accuracy'], label='Validation Accuracy')\n",
    "plt.legend()\n",
    "plt.title('Accuracy')\n",
    "\n",
    "plt.subplot(1, 2, 2)\n",
    "plt.plot(model.history.history['loss'], label='Train Loss')\n",
    "plt.plot(model.history.history['val_loss'], label='Validation Loss')\n",
    "plt.legend()\n",
    "plt.title('Loss')\n",
    "\n",
    "plt.show()"
   ]
  },
  {
   "attachments": {},
   "cell_type": "markdown",
   "metadata": {},
   "source": [
    "Save as H5"
   ]
  },
  {
   "cell_type": "code",
   "execution_count": null,
   "metadata": {},
   "outputs": [],
   "source": [
    "model.save('cnn_object_detection.h5')"
   ]
  }
 ],
 "metadata": {
  "kernelspec": {
   "display_name": "base",
   "language": "python",
   "name": "python3"
  },
  "language_info": {
   "codemirror_mode": {
    "name": "ipython",
    "version": 3
   },
   "file_extension": ".py",
   "mimetype": "text/x-python",
   "name": "python",
   "nbconvert_exporter": "python",
   "pygments_lexer": "ipython3",
   "version": "3.9.12"
  },
  "orig_nbformat": 4
 },
 "nbformat": 4,
 "nbformat_minor": 2
}
