{
 "cells": [
  {
   "cell_type": "markdown",
   "metadata": {},
   "source": [
    "### Add Imports"
   ]
  },
  {
   "cell_type": "code",
   "execution_count": 1,
   "metadata": {},
   "outputs": [],
   "source": [
    "from tensorflow.keras.preprocessing.image import load_img, img_to_array\n",
    "from tensorflow.keras.models import load_model\n",
    "from tensorflow.keras.preprocessing.image import ImageDataGenerator\n",
    "import numpy as np\n",
    "import json"
   ]
  },
  {
   "cell_type": "markdown",
   "metadata": {},
   "source": [
    "### Define your directories and parameters again\n"
   ]
  },
  {
   "cell_type": "code",
   "execution_count": 3,
   "metadata": {},
   "outputs": [
    {
     "name": "stdout",
     "output_type": "stream",
     "text": [
      "Found 3610 images belonging to 44 classes.\n"
     ]
    }
   ],
   "source": [
    "train_data_dir = 'train3_imagesfixed_category'\n",
    "img_width, img_height = 224, 224\n",
    "batch_size = 32\n",
    "\n",
    "# Rescale images\n",
    "datagen = ImageDataGenerator(rescale=1. / 255)\n",
    "\n",
    "# Generator\n",
    "generator = datagen.flow_from_directory(\n",
    "    train_data_dir,\n",
    "    target_size=(img_width, img_height),\n",
    "    batch_size=batch_size,\n",
    "    class_mode='categorical')\n",
    "\n",
    "# Class indices mapping\n",
    "class_map = {v: k for k, v in generator.class_indices.items()}"
   ]
  },
  {
   "cell_type": "markdown",
   "metadata": {},
   "source": [
    "### Load the model"
   ]
  },
  {
   "cell_type": "code",
   "execution_count": 4,
   "metadata": {},
   "outputs": [],
   "source": [
    "model = load_model('model5.h5')"
   ]
  },
  {
   "cell_type": "markdown",
   "metadata": {},
   "source": [
    "Add expected image shape"
   ]
  },
  {
   "cell_type": "code",
   "execution_count": 5,
   "metadata": {},
   "outputs": [],
   "source": [
    "# Define the expected input shape for the model\n",
    "img_width, img_height = 224, 224"
   ]
  },
  {
   "cell_type": "markdown",
   "metadata": {},
   "source": [
    "# Load the image and test the model"
   ]
  },
  {
   "cell_type": "code",
   "execution_count": 6,
   "metadata": {},
   "outputs": [],
   "source": [
    "# Load an image file to test, resizing it to the expected size for the model\n",
    "# image = load_img('test_image2.jpg', target_size=(img_width, img_height))\n",
    "\n",
    "image = load_img('laptop2.jpg', target_size=(img_width, img_height))"
   ]
  },
  {
   "cell_type": "markdown",
   "metadata": {},
   "source": [
    "### Adding label to each category"
   ]
  },
  {
   "cell_type": "code",
   "execution_count": 7,
   "metadata": {},
   "outputs": [],
   "source": [
    "# Dictionary mapping category indices to their respective names\n",
    "index_to_category_name = {\n",
    "'0': 'airplane',\n",
    "'1': 'banana',\n",
    "'2': 'bear',\n",
    "'3': 'bed',\n",
    "'4': 'bench',\n",
    "'5': 'bird',\n",
    "'6': 'boat',\n",
    "'7': 'broccoli',\n",
    "'8': 'bus',\n",
    "'9': 'cake',\n",
    "'10': 'car',\n",
    "'11': 'cat',\n",
    "'12': 'cell phone',\n",
    "'13': 'clock',\n",
    "'14': 'cow',\n",
    "'15': 'dog',\n",
    "'16': 'donut',\n",
    "'17': 'elephant',\n",
    "'18': 'fire hydrant',\n",
    "'19': 'giraffe',\n",
    "'20': 'horse',\n",
    "'21': 'hot dog',\n",
    "'22': 'kite',\n",
    "'23': 'laptop',\n",
    "'24': 'motorcycle',\n",
    "'25': 'orange',\n",
    "'26': 'oven',\n",
    "'27': 'person',\n",
    "'28': 'pizza',\n",
    "'29': 'refrigerator',\n",
    "'30': 'sandwich',\n",
    "'31': 'scissors',\n",
    "'32': 'sheep',\n",
    "'33': 'sink',\n",
    "'34': 'stop sign',\n",
    "'35': 'suitcase',\n",
    "'36': 'teddy bear',\n",
    "'37': 'toilet',\n",
    "'38': 'traffic light',\n",
    "'39': 'train',\n",
    "'40': 'truck',\n",
    "'41': 'umbrella',\n",
    "'42': 'vase',\n",
    "'43': 'zebra'\n",
    "}"
   ]
  },
  {
   "cell_type": "markdown",
   "metadata": {},
   "source": [
    "### Looking at all the indexes\n",
    "\n",
    "1 = Object\n",
    "0 = No Object"
   ]
  },
  {
   "cell_type": "code",
   "execution_count": 8,
   "metadata": {},
   "outputs": [],
   "source": [
    "# # Convert the image to a numpy array\n",
    "# image = img_to_array(image)\n",
    "\n",
    "# # Scale the image pixels by 255\n",
    "# image /= 255\n",
    "\n",
    "# # Expand dimensions to fit the model's expected input\n",
    "# image = np.expand_dims(image, axis=0)\n",
    "\n",
    "# # Make a prediction on the image\n",
    "# predictions = model.predict(image)\n",
    "\n",
    "# # Convert predictions to boolean values based on threshold\n",
    "# predicted_classes = predictions[0] > 0.5\n",
    "\n",
    "# # Create a dictionary mapping class names to their predicted values\n",
    "# output_dict = {class_name: int(predicted) for class_name, predicted in zip(class_map, predicted_classes)}\n",
    "\n",
    "# # Output the prediction in JSON format\n",
    "# output = json.dumps(output_dict)\n",
    "# print(output)"
   ]
  },
  {
   "cell_type": "markdown",
   "metadata": {},
   "source": [
    "### Output image based on index_to_category_name categories"
   ]
  },
  {
   "cell_type": "code",
   "execution_count": 9,
   "metadata": {},
   "outputs": [
    {
     "name": "stdout",
     "output_type": "stream",
     "text": [
      "{\"airplane\": 0, \"banana\": 0, \"bear\": 0, \"bed\": 0, \"bench\": 0, \"bird\": 0, \"boat\": 0, \"broccoli\": 0, \"bus\": 0, \"cake\": 0, \"car\": 0, \"cat\": 0, \"cell phone\": 0, \"clock\": 0, \"cow\": 0, \"dog\": 0, \"donut\": 0, \"elephant\": 0, \"fire hydrant\": 0, \"giraffe\": 0, \"horse\": 0, \"hot dog\": 0, \"kite\": 0, \"laptop\": 1, \"motorcycle\": 0, \"orange\": 0, \"oven\": 0, \"person\": 0, \"pizza\": 0, \"refrigerator\": 0, \"sandwich\": 0, \"scissors\": 0, \"sheep\": 0, \"sink\": 0, \"stop sign\": 0, \"suitcase\": 0, \"teddy bear\": 0, \"toilet\": 0, \"traffic light\": 0, \"train\": 0, \"truck\": 0, \"umbrella\": 0, \"vase\": 0, \"zebra\": 0}\n"
     ]
    }
   ],
   "source": [
    "# Convert the image to a numpy array\n",
    "image = img_to_array(image)\n",
    "\n",
    "image /= 255\n",
    "\n",
    "image = np.expand_dims(image, axis=0)\n",
    "\n",
    "predictions = model.predict(image)\n",
    "\n",
    "predicted_classes = predictions[0] > 0.5\n",
    "\n",
    "output_dict = {index_to_category_name[str(index)]: int(predicted) for index, predicted in enumerate(predicted_classes)}\n",
    "\n",
    "# Output in JSON format\n",
    "output = json.dumps(output_dict)\n",
    "print(output)"
   ]
  },
  {
   "cell_type": "code",
   "execution_count": null,
   "metadata": {},
   "outputs": [],
   "source": []
  }
 ],
 "metadata": {
  "kernelspec": {
   "display_name": "Python 3",
   "language": "python",
   "name": "python3"
  },
  "language_info": {
   "codemirror_mode": {
    "name": "ipython",
    "version": 3
   },
   "file_extension": ".py",
   "mimetype": "text/x-python",
   "name": "python",
   "nbconvert_exporter": "python",
   "pygments_lexer": "ipython3",
   "version": "3.8.5"
  }
 },
 "nbformat": 4,
 "nbformat_minor": 2
}
