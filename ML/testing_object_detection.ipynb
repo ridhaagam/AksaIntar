{
 "cells": [
  {
   "attachments": {},
   "cell_type": "markdown",
   "metadata": {},
   "source": [
    "### Add Imports"
   ]
  },
  {
   "cell_type": "code",
   "execution_count": 194,
   "metadata": {},
   "outputs": [],
   "source": [
    "from tensorflow.keras.preprocessing.image import load_img, img_to_array\n",
    "from tensorflow.keras.models import load_model\n",
    "from tensorflow.keras.preprocessing.image import ImageDataGenerator\n",
    "import numpy as np\n",
    "import json"
   ]
  },
  {
   "attachments": {},
   "cell_type": "markdown",
   "metadata": {},
   "source": [
    "### Define your directories and parameters again\n"
   ]
  },
  {
   "cell_type": "code",
   "execution_count": 195,
   "metadata": {},
   "outputs": [
    {
     "name": "stdout",
     "output_type": "stream",
     "text": [
      "Found 1600 images belonging to 15 classes.\n"
     ]
    }
   ],
   "source": [
    "train_data_dir = 'train_images_category'\n",
    "img_width, img_height = 224, 224\n",
    "batch_size = 32\n",
    "\n",
    "# Rescale images\n",
    "datagen = ImageDataGenerator(rescale=1. / 255)\n",
    "\n",
    "# Generator\n",
    "generator = datagen.flow_from_directory(\n",
    "    train_data_dir,\n",
    "    target_size=(img_width, img_height),\n",
    "    batch_size=batch_size,\n",
    "    class_mode='categorical')\n",
    "\n",
    "# Class indices mapping\n",
    "class_map = {v: k for k, v in generator.class_indices.items()}"
   ]
  },
  {
   "attachments": {},
   "cell_type": "markdown",
   "metadata": {},
   "source": [
    "### Load the model"
   ]
  },
  {
   "cell_type": "code",
   "execution_count": 196,
   "metadata": {},
   "outputs": [],
   "source": [
    "model = load_model('model.h5')"
   ]
  },
  {
   "attachments": {},
   "cell_type": "markdown",
   "metadata": {},
   "source": [
    "Add expected image shape"
   ]
  },
  {
   "cell_type": "code",
   "execution_count": 197,
   "metadata": {},
   "outputs": [],
   "source": [
    "# Define the expected input shape for the model\n",
    "# img_width, img_height = 224, 224"
   ]
  },
  {
   "attachments": {},
   "cell_type": "markdown",
   "metadata": {},
   "source": [
    "# Load the image and test the model"
   ]
  },
  {
   "cell_type": "code",
   "execution_count": 198,
   "metadata": {},
   "outputs": [],
   "source": [
    "# Load an image file to test, resizing it to the expected size for the model\n",
    "image = load_img('test_image3.jpg', target_size=(img_width, img_height))\n"
   ]
  },
  {
   "attachments": {},
   "cell_type": "markdown",
   "metadata": {},
   "source": [
    "### Adding label to each category"
   ]
  },
  {
   "cell_type": "code",
   "execution_count": 199,
   "metadata": {},
   "outputs": [],
   "source": [
    "# Dictionary mapping category indices to their respective names\n",
    "index_to_category_name = {\n",
    "    \"0\": \"banana\",\n",
    "    \"1\": \"bed\",\n",
    "    \"2\": \"bus\",\n",
    "    \"3\": \"car\",\n",
    "    \"4\": \"cat\",\n",
    "    \"5\": \"clock\",\n",
    "    \"6\": \"dog\",\n",
    "    \"7\": \"kite\",\n",
    "    \"8\": \"motorcycle\",\n",
    "    \"9\": \"orange\",\n",
    "    \"10\": \"oven\",\n",
    "    \"11\": \"scissors\",\n",
    "    \"12\": \"stop sign\",\n",
    "    \"13\": \"traffic light\",\n",
    "    \"14\": \"umbrella\",\n",
    "}"
   ]
  },
  {
   "attachments": {},
   "cell_type": "markdown",
   "metadata": {},
   "source": [
    "### Looking at all the indexes\n",
    "\n",
    "1 = Object\n",
    "0 = No Object"
   ]
  },
  {
   "cell_type": "code",
   "execution_count": 200,
   "metadata": {},
   "outputs": [],
   "source": [
    "# # Convert the image to a numpy array\n",
    "# image = img_to_array(image)\n",
    "\n",
    "# # Scale the image pixels by 255\n",
    "# image /= 255\n",
    "\n",
    "# # Expand dimensions to fit the model's expected input\n",
    "# image = np.expand_dims(image, axis=0)\n",
    "\n",
    "# # Make a prediction on the image\n",
    "# predictions = model.predict(image)\n",
    "\n",
    "# # Convert predictions to boolean values based on threshold\n",
    "# predicted_classes = predictions[0] > 0.5\n",
    "\n",
    "# # Create a dictionary mapping class names to their predicted values\n",
    "# output_dict = {class_name: int(predicted) for class_name, predicted in zip(class_map, predicted_classes)}\n",
    "\n",
    "# # Output the prediction in JSON format\n",
    "# output = json.dumps(output_dict)\n",
    "# print(output)"
   ]
  },
  {
   "attachments": {},
   "cell_type": "markdown",
   "metadata": {},
   "source": [
    "### Output image based on index_to_category_name categories"
   ]
  },
  {
   "cell_type": "code",
   "execution_count": 201,
   "metadata": {},
   "outputs": [
    {
     "name": "stdout",
     "output_type": "stream",
     "text": [
      "1/1 [==============================] - 1s 918ms/step\n",
      "{\"banana\": 0, \"bed\": 0, \"bus\": 0, \"car\": 0, \"cat\": 0, \"clock\": 0, \"dog\": 1, \"kite\": 0, \"motorcycle\": 0, \"orange\": 0, \"oven\": 0, \"scissors\": 0, \"stop sign\": 0, \"traffic light\": 0, \"umbrella\": 0}\n"
     ]
    }
   ],
   "source": [
    "# Convert the image to a numpy array\n",
    "image = img_to_array(image)\n",
    "\n",
    "# Scale the image pixels by 255\n",
    "image /= 255\n",
    "\n",
    "# Expand dimensions to fit the model's expected input\n",
    "image = np.expand_dims(image, axis=0)\n",
    "\n",
    "# Make a prediction on the image\n",
    "predictions = model.predict(image)\n",
    "\n",
    "# Convert predictions to boolean values based on threshold\n",
    "predicted_classes = predictions[0] > 0.5\n",
    "\n",
    "# Create a dictionary mapping class names to their predicted values\n",
    "output_dict = {index_to_category_name[str(index)]: int(predicted) for index, predicted in enumerate(predicted_classes)}\n",
    "\n",
    "# Output the prediction in JSON format\n",
    "output = json.dumps(output_dict)\n",
    "print(output)"
   ]
  }
 ],
 "metadata": {
  "kernelspec": {
   "display_name": "base",
   "language": "python",
   "name": "python3"
  },
  "language_info": {
   "codemirror_mode": {
    "name": "ipython",
    "version": 3
   },
   "file_extension": ".py",
   "mimetype": "text/x-python",
   "name": "python",
   "nbconvert_exporter": "python",
   "pygments_lexer": "ipython3",
   "version": "3.9.12"
  },
  "orig_nbformat": 4
 },
 "nbformat": 4,
 "nbformat_minor": 2
}
